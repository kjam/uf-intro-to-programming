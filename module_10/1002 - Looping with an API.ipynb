{
 "cells": [
  {
   "cell_type": "code",
   "execution_count": 14,
   "metadata": {},
   "outputs": [],
   "source": [
    "import requests\n",
    "from datetime import datetime\n",
    "from time import sleep"
   ]
  },
  {
   "cell_type": "markdown",
   "metadata": {},
   "source": [
    "### Tracking the International Space Station\n",
    "\n",
    "In this notebook, we'll explore tracking the ISS! For more info on the API, check out [their documentation](http://api.open-notify.org)."
   ]
  },
  {
   "cell_type": "code",
   "execution_count": 2,
   "metadata": {},
   "outputs": [],
   "source": [
    "my_lat = 52.520008\n",
    "my_long = 13.404954"
   ]
  },
  {
   "cell_type": "code",
   "execution_count": 3,
   "metadata": {},
   "outputs": [],
   "source": [
    "resp = requests.get('http://api.open-notify.org/iss-pass.json',\n",
    "                        params={'lat': my_lat, \n",
    "                                'lon': my_long})"
   ]
  },
  {
   "cell_type": "code",
   "execution_count": 4,
   "metadata": {},
   "outputs": [
    {
     "data": {
      "text/plain": [
       "{'message': 'success',\n",
       " 'request': {'altitude': 100,\n",
       "  'datetime': 1559211531,\n",
       "  'latitude': 52.520008,\n",
       "  'longitude': 13.404954,\n",
       "  'passes': 5},\n",
       " 'response': [{'duration': 365, 'risetime': 1559225287},\n",
       "  {'duration': 604, 'risetime': 1559230908},\n",
       "  {'duration': 648, 'risetime': 1559236664},\n",
       "  {'duration': 651, 'risetime': 1559242458},\n",
       "  {'duration': 629, 'risetime': 1559248255}]}"
      ]
     },
     "execution_count": 4,
     "metadata": {},
     "output_type": "execute_result"
    }
   ],
   "source": [
    "resp.json()"
   ]
  },
  {
   "cell_type": "code",
   "execution_count": 5,
   "metadata": {},
   "outputs": [],
   "source": [
    "data = resp.json().get('response')[0]"
   ]
  },
  {
   "cell_type": "code",
   "execution_count": 10,
   "metadata": {},
   "outputs": [
    {
     "name": "stdout",
     "output_type": "stream",
     "text": [
      "ISS will pass near me in 03:48:21\n"
     ]
    }
   ],
   "source": [
    "td = datetime.fromtimestamp(data.get('risetime')) - datetime.now()\n",
    "m, s = divmod(int(td.total_seconds()), 60)\n",
    "h, m = divmod(m, 60)\n",
    "print('ISS will pass near me in %02d:%02d:%02d' % (h, m, s))"
   ]
  },
  {
   "cell_type": "code",
   "execution_count": 11,
   "metadata": {},
   "outputs": [],
   "source": [
    "cities_to_check = {\n",
    "    \"Berlin\": \n",
    "        {\"lat\": 52.520008,\n",
    "         \"long\": 13.404954},\n",
    "    \"Los Angeles\":\n",
    "        {\"lat\": 34.052235,\n",
    "         \"long\": -118.243683},\n",
    "    \"Cape Town\":\n",
    "        {\"lat\":-33.918861,\n",
    "         \"long\":18.423300},\n",
    "}"
   ]
  },
  {
   "cell_type": "code",
   "execution_count": 15,
   "metadata": {},
   "outputs": [
    {
     "name": "stdout",
     "output_type": "stream",
     "text": [
      "ISS will pass near Berlin in 03:42:24\n",
      "ISS will pass near Los Angeles in 11:19:39\n",
      "ISS will pass near Cape Town in 00:10:01\n"
     ]
    }
   ],
   "source": [
    "for city_name, city_info in cities_to_check.items():\n",
    "    resp = requests.get('http://api.open-notify.org/iss-pass.json',\n",
    "                        params={'lat': city_info.get('lat'), \n",
    "                                'lon': city_info.get('long')})\n",
    "    data = resp.json().get('response')[0]\n",
    "    td = datetime.fromtimestamp(data.get('risetime')) - datetime.now()\n",
    "    m, s = divmod(int(td.total_seconds()), 60)\n",
    "    h, m = divmod(m, 60)\n",
    "    print('ISS will pass near %s in %02d:%02d:%02d' % (city_name, \n",
    "                                                       h, m, s))\n",
    "    sleep(1)"
   ]
  },
  {
   "cell_type": "code",
   "execution_count": null,
   "metadata": {},
   "outputs": [],
   "source": []
  }
 ],
 "metadata": {
  "kernelspec": {
   "display_name": "Python 3",
   "language": "python",
   "name": "python3"
  },
  "language_info": {
   "codemirror_mode": {
    "name": "ipython",
    "version": 3
   },
   "file_extension": ".py",
   "mimetype": "text/x-python",
   "name": "python",
   "nbconvert_exporter": "python",
   "pygments_lexer": "ipython3",
   "version": "3.6.1"
  }
 },
 "nbformat": 4,
 "nbformat_minor": 2
}
