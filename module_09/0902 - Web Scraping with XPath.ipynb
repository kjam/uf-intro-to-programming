{
 "cells": [
  {
   "cell_type": "code",
   "execution_count": 2,
   "metadata": {},
   "outputs": [],
   "source": [
    "import lxml.html\n",
    "import requests"
   ]
  },
  {
   "cell_type": "code",
   "execution_count": 3,
   "metadata": {},
   "outputs": [],
   "source": [
    "blog = requests.get(\"http://blog.kjamistan.com/\")"
   ]
  },
  {
   "cell_type": "code",
   "execution_count": 4,
   "metadata": {},
   "outputs": [],
   "source": [
    "blog_source = blog.content"
   ]
  },
  {
   "cell_type": "code",
   "execution_count": 5,
   "metadata": {},
   "outputs": [],
   "source": [
    "parsed_blog = lxml.html.fromstring(blog_source)"
   ]
  },
  {
   "cell_type": "code",
   "execution_count": 6,
   "metadata": {},
   "outputs": [],
   "source": [
    "links = parsed_blog.xpath('//a')"
   ]
  },
  {
   "cell_type": "code",
   "execution_count": 7,
   "metadata": {},
   "outputs": [
    {
     "data": {
      "text/plain": [
       "<Element a at 0x7fdea4489958>"
      ]
     },
     "execution_count": 7,
     "metadata": {},
     "output_type": "execute_result"
    }
   ],
   "source": [
    "links[0]"
   ]
  },
  {
   "cell_type": "code",
   "execution_count": 8,
   "metadata": {},
   "outputs": [],
   "source": [
    "link_urls = parsed_blog.xpath('//a/@href')"
   ]
  },
  {
   "cell_type": "code",
   "execution_count": 9,
   "metadata": {},
   "outputs": [
    {
     "data": {
      "text/plain": [
       "['#',\n",
       " 'https://kjamistan.com/',\n",
       " 'https://kjamistan.com/about/',\n",
       " 'https://blog.kjamistan.com/',\n",
       " 'https://kjamistan.com/training/',\n",
       " 'http://kjamistan.com/rss/',\n",
       " 'http://kjamistan.com',\n",
       " '#',\n",
       " '#content',\n",
       " '/page/2/']"
      ]
     },
     "execution_count": 9,
     "metadata": {},
     "output_type": "execute_result"
    }
   ],
   "source": [
    "link_urls[:10]"
   ]
  },
  {
   "cell_type": "code",
   "execution_count": 10,
   "metadata": {},
   "outputs": [],
   "source": [
    "footer_link_urls = parsed_blog.xpath(\n",
    "    '//footer[@class=\"post-meta\"]/a/@href')"
   ]
  },
  {
   "cell_type": "code",
   "execution_count": 11,
   "metadata": {},
   "outputs": [
    {
     "data": {
      "text/plain": [
       "['/author/kjam/',\n",
       " '/adversarial-learning-for-good-my-talk-at-34c3-on-deep-learning-blindspots/#disqus_thread',\n",
       " '/author/kjam/',\n",
       " '/towards-interpretable-reliable-models/#disqus_thread',\n",
       " '/author/kjam/',\n",
       " '/gdpr-you-my-talk-at-cloudera-sessions-munchen/#disqus_thread',\n",
       " '/author/kjam/',\n",
       " '/algorithmic-art-and-kunstliche-kunst-my-talk-at-404-dublin/#disqus_thread',\n",
       " '/author/kjam/',\n",
       " '/comparing-scikit-learn-text-classifiers-on-a-fake-news-dataset/#disqus_thread']"
      ]
     },
     "execution_count": 11,
     "metadata": {},
     "output_type": "execute_result"
    }
   ],
   "source": [
    "footer_link_urls"
   ]
  },
  {
   "cell_type": "code",
   "execution_count": 12,
   "metadata": {},
   "outputs": [],
   "source": [
    "full_url = \"https://blog.kjamistan.com{}\".format(\n",
    "    footer_link_urls[0])"
   ]
  },
  {
   "cell_type": "code",
   "execution_count": 13,
   "metadata": {},
   "outputs": [
    {
     "data": {
      "text/plain": [
       "'https://blog.kjamistan.com/author/kjam/'"
      ]
     },
     "execution_count": 13,
     "metadata": {},
     "output_type": "execute_result"
    }
   ],
   "source": [
    "full_url"
   ]
  },
  {
   "cell_type": "code",
   "execution_count": null,
   "metadata": {},
   "outputs": [],
   "source": []
  }
 ],
 "metadata": {
  "kernelspec": {
   "display_name": "Python 3",
   "language": "python",
   "name": "python3"
  },
  "language_info": {
   "codemirror_mode": {
    "name": "ipython",
    "version": 3
   },
   "file_extension": ".py",
   "mimetype": "text/x-python",
   "name": "python",
   "nbconvert_exporter": "python",
   "pygments_lexer": "ipython3",
   "version": "3.6.1"
  }
 },
 "nbformat": 4,
 "nbformat_minor": 2
}
